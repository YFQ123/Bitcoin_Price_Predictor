{
 "cells": [
  {
   "cell_type": "code",
   "execution_count": 438,
   "metadata": {},
   "outputs": [],
   "source": [
    "import pandas as pd\n",
    "import numpy as np\n",
    "import matplotlib.pyplot as plt\n",
    "from pandas import Series, DataFrame, Panel\n",
    "from sklearn import preprocessing\n",
    "pd.set_option('display.max_rows',15)\n",
    "import tensorflow as tf"
   ]
  },
  {
   "cell_type": "markdown",
   "metadata": {},
   "source": [
    "## Neural Network Model"
   ]
  },
  {
   "cell_type": "code",
   "execution_count": 439,
   "metadata": {},
   "outputs": [],
   "source": [
    "# --------------------------- Load Data ----------------------------------"
   ]
  },
  {
   "cell_type": "code",
   "execution_count": 440,
   "metadata": {},
   "outputs": [],
   "source": [
    "bitcoin = pd.read_csv ('./bitcoin_price.csv', parse_dates = True, index_col = [0])"
   ]
  },
  {
   "cell_type": "code",
   "execution_count": 441,
   "metadata": {},
   "outputs": [
    {
     "data": {
      "text/html": [
       "<div>\n",
       "<style scoped>\n",
       "    .dataframe tbody tr th:only-of-type {\n",
       "        vertical-align: middle;\n",
       "    }\n",
       "\n",
       "    .dataframe tbody tr th {\n",
       "        vertical-align: top;\n",
       "    }\n",
       "\n",
       "    .dataframe thead th {\n",
       "        text-align: right;\n",
       "    }\n",
       "</style>\n",
       "<table border=\"1\" class=\"dataframe\">\n",
       "  <thead>\n",
       "    <tr style=\"text-align: right;\">\n",
       "      <th></th>\n",
       "      <th>Open</th>\n",
       "      <th>High</th>\n",
       "      <th>Low</th>\n",
       "      <th>Close</th>\n",
       "      <th>Volume</th>\n",
       "      <th>Market Cap</th>\n",
       "    </tr>\n",
       "    <tr>\n",
       "      <th>Date</th>\n",
       "      <th></th>\n",
       "      <th></th>\n",
       "      <th></th>\n",
       "      <th></th>\n",
       "      <th></th>\n",
       "      <th></th>\n",
       "    </tr>\n",
       "  </thead>\n",
       "  <tbody>\n",
       "    <tr>\n",
       "      <th>2018-02-20</th>\n",
       "      <td>11231.80</td>\n",
       "      <td>11958.50</td>\n",
       "      <td>11231.80</td>\n",
       "      <td>11403.70</td>\n",
       "      <td>9,926,540,000</td>\n",
       "      <td>189,536,000,000</td>\n",
       "    </tr>\n",
       "    <tr>\n",
       "      <th>2018-02-19</th>\n",
       "      <td>10552.60</td>\n",
       "      <td>11273.80</td>\n",
       "      <td>10513.20</td>\n",
       "      <td>11225.30</td>\n",
       "      <td>7,652,090,000</td>\n",
       "      <td>178,055,000,000</td>\n",
       "    </tr>\n",
       "    <tr>\n",
       "      <th>2018-02-18</th>\n",
       "      <td>11123.40</td>\n",
       "      <td>11349.80</td>\n",
       "      <td>10326.00</td>\n",
       "      <td>10551.80</td>\n",
       "      <td>8,744,010,000</td>\n",
       "      <td>187,663,000,000</td>\n",
       "    </tr>\n",
       "    <tr>\n",
       "      <th>2018-02-17</th>\n",
       "      <td>10207.50</td>\n",
       "      <td>11139.50</td>\n",
       "      <td>10149.40</td>\n",
       "      <td>11112.70</td>\n",
       "      <td>8,660,880,000</td>\n",
       "      <td>172,191,000,000</td>\n",
       "    </tr>\n",
       "    <tr>\n",
       "      <th>2018-02-16</th>\n",
       "      <td>10135.70</td>\n",
       "      <td>10324.10</td>\n",
       "      <td>9824.82</td>\n",
       "      <td>10233.90</td>\n",
       "      <td>7,296,160,000</td>\n",
       "      <td>170,960,000,000</td>\n",
       "    </tr>\n",
       "    <tr>\n",
       "      <th>2018-02-15</th>\n",
       "      <td>9488.32</td>\n",
       "      <td>10234.80</td>\n",
       "      <td>9395.58</td>\n",
       "      <td>10166.40</td>\n",
       "      <td>9,062,540,000</td>\n",
       "      <td>160,025,000,000</td>\n",
       "    </tr>\n",
       "    <tr>\n",
       "      <th>2018-02-14</th>\n",
       "      <td>8599.92</td>\n",
       "      <td>9518.54</td>\n",
       "      <td>8599.92</td>\n",
       "      <td>9494.63</td>\n",
       "      <td>7,909,820,000</td>\n",
       "      <td>145,023,000,000</td>\n",
       "    </tr>\n",
       "    <tr>\n",
       "      <th>...</th>\n",
       "      <td>...</td>\n",
       "      <td>...</td>\n",
       "      <td>...</td>\n",
       "      <td>...</td>\n",
       "      <td>...</td>\n",
       "      <td>...</td>\n",
       "    </tr>\n",
       "    <tr>\n",
       "      <th>2013-05-04</th>\n",
       "      <td>98.10</td>\n",
       "      <td>115.00</td>\n",
       "      <td>92.50</td>\n",
       "      <td>112.50</td>\n",
       "      <td>-</td>\n",
       "      <td>1,089,890,000</td>\n",
       "    </tr>\n",
       "    <tr>\n",
       "      <th>2013-05-03</th>\n",
       "      <td>106.25</td>\n",
       "      <td>108.13</td>\n",
       "      <td>79.10</td>\n",
       "      <td>97.75</td>\n",
       "      <td>-</td>\n",
       "      <td>1,180,070,000</td>\n",
       "    </tr>\n",
       "    <tr>\n",
       "      <th>2013-05-02</th>\n",
       "      <td>116.38</td>\n",
       "      <td>125.60</td>\n",
       "      <td>92.28</td>\n",
       "      <td>105.21</td>\n",
       "      <td>-</td>\n",
       "      <td>1,292,190,000</td>\n",
       "    </tr>\n",
       "    <tr>\n",
       "      <th>2013-05-01</th>\n",
       "      <td>139.00</td>\n",
       "      <td>139.89</td>\n",
       "      <td>107.72</td>\n",
       "      <td>116.99</td>\n",
       "      <td>-</td>\n",
       "      <td>1,542,820,000</td>\n",
       "    </tr>\n",
       "    <tr>\n",
       "      <th>2013-04-30</th>\n",
       "      <td>144.00</td>\n",
       "      <td>146.93</td>\n",
       "      <td>134.05</td>\n",
       "      <td>139.00</td>\n",
       "      <td>-</td>\n",
       "      <td>1,597,780,000</td>\n",
       "    </tr>\n",
       "    <tr>\n",
       "      <th>2013-04-29</th>\n",
       "      <td>134.44</td>\n",
       "      <td>147.49</td>\n",
       "      <td>134.00</td>\n",
       "      <td>144.54</td>\n",
       "      <td>-</td>\n",
       "      <td>1,491,160,000</td>\n",
       "    </tr>\n",
       "    <tr>\n",
       "      <th>2013-04-28</th>\n",
       "      <td>135.30</td>\n",
       "      <td>135.98</td>\n",
       "      <td>132.10</td>\n",
       "      <td>134.21</td>\n",
       "      <td>-</td>\n",
       "      <td>1,500,520,000</td>\n",
       "    </tr>\n",
       "  </tbody>\n",
       "</table>\n",
       "<p>1760 rows × 6 columns</p>\n",
       "</div>"
      ],
      "text/plain": [
       "                Open      High       Low     Close         Volume  \\\n",
       "Date                                                                \n",
       "2018-02-20  11231.80  11958.50  11231.80  11403.70  9,926,540,000   \n",
       "2018-02-19  10552.60  11273.80  10513.20  11225.30  7,652,090,000   \n",
       "2018-02-18  11123.40  11349.80  10326.00  10551.80  8,744,010,000   \n",
       "2018-02-17  10207.50  11139.50  10149.40  11112.70  8,660,880,000   \n",
       "2018-02-16  10135.70  10324.10   9824.82  10233.90  7,296,160,000   \n",
       "2018-02-15   9488.32  10234.80   9395.58  10166.40  9,062,540,000   \n",
       "2018-02-14   8599.92   9518.54   8599.92   9494.63  7,909,820,000   \n",
       "...              ...       ...       ...       ...            ...   \n",
       "2013-05-04     98.10    115.00     92.50    112.50              -   \n",
       "2013-05-03    106.25    108.13     79.10     97.75              -   \n",
       "2013-05-02    116.38    125.60     92.28    105.21              -   \n",
       "2013-05-01    139.00    139.89    107.72    116.99              -   \n",
       "2013-04-30    144.00    146.93    134.05    139.00              -   \n",
       "2013-04-29    134.44    147.49    134.00    144.54              -   \n",
       "2013-04-28    135.30    135.98    132.10    134.21              -   \n",
       "\n",
       "                 Market Cap  \n",
       "Date                         \n",
       "2018-02-20  189,536,000,000  \n",
       "2018-02-19  178,055,000,000  \n",
       "2018-02-18  187,663,000,000  \n",
       "2018-02-17  172,191,000,000  \n",
       "2018-02-16  170,960,000,000  \n",
       "2018-02-15  160,025,000,000  \n",
       "2018-02-14  145,023,000,000  \n",
       "...                     ...  \n",
       "2013-05-04    1,089,890,000  \n",
       "2013-05-03    1,180,070,000  \n",
       "2013-05-02    1,292,190,000  \n",
       "2013-05-01    1,542,820,000  \n",
       "2013-04-30    1,597,780,000  \n",
       "2013-04-29    1,491,160,000  \n",
       "2013-04-28    1,500,520,000  \n",
       "\n",
       "[1760 rows x 6 columns]"
      ]
     },
     "execution_count": 441,
     "metadata": {},
     "output_type": "execute_result"
    }
   ],
   "source": [
    "bitcoin"
   ]
  },
  {
   "cell_type": "code",
   "execution_count": 442,
   "metadata": {},
   "outputs": [],
   "source": [
    "bitcoin = bitcoin.sort_index(ascending = True)"
   ]
  },
  {
   "cell_type": "code",
   "execution_count": 443,
   "metadata": {},
   "outputs": [
    {
     "data": {
      "text/html": [
       "<div>\n",
       "<style scoped>\n",
       "    .dataframe tbody tr th:only-of-type {\n",
       "        vertical-align: middle;\n",
       "    }\n",
       "\n",
       "    .dataframe tbody tr th {\n",
       "        vertical-align: top;\n",
       "    }\n",
       "\n",
       "    .dataframe thead th {\n",
       "        text-align: right;\n",
       "    }\n",
       "</style>\n",
       "<table border=\"1\" class=\"dataframe\">\n",
       "  <thead>\n",
       "    <tr style=\"text-align: right;\">\n",
       "      <th></th>\n",
       "      <th>Open</th>\n",
       "      <th>High</th>\n",
       "      <th>Low</th>\n",
       "      <th>Close</th>\n",
       "      <th>Volume</th>\n",
       "      <th>Market Cap</th>\n",
       "    </tr>\n",
       "    <tr>\n",
       "      <th>Date</th>\n",
       "      <th></th>\n",
       "      <th></th>\n",
       "      <th></th>\n",
       "      <th></th>\n",
       "      <th></th>\n",
       "      <th></th>\n",
       "    </tr>\n",
       "  </thead>\n",
       "  <tbody>\n",
       "    <tr>\n",
       "      <th>2013-04-28</th>\n",
       "      <td>135.30</td>\n",
       "      <td>135.98</td>\n",
       "      <td>132.10</td>\n",
       "      <td>134.21</td>\n",
       "      <td>-</td>\n",
       "      <td>1,500,520,000</td>\n",
       "    </tr>\n",
       "    <tr>\n",
       "      <th>2013-04-29</th>\n",
       "      <td>134.44</td>\n",
       "      <td>147.49</td>\n",
       "      <td>134.00</td>\n",
       "      <td>144.54</td>\n",
       "      <td>-</td>\n",
       "      <td>1,491,160,000</td>\n",
       "    </tr>\n",
       "    <tr>\n",
       "      <th>2013-04-30</th>\n",
       "      <td>144.00</td>\n",
       "      <td>146.93</td>\n",
       "      <td>134.05</td>\n",
       "      <td>139.00</td>\n",
       "      <td>-</td>\n",
       "      <td>1,597,780,000</td>\n",
       "    </tr>\n",
       "    <tr>\n",
       "      <th>2013-05-01</th>\n",
       "      <td>139.00</td>\n",
       "      <td>139.89</td>\n",
       "      <td>107.72</td>\n",
       "      <td>116.99</td>\n",
       "      <td>-</td>\n",
       "      <td>1,542,820,000</td>\n",
       "    </tr>\n",
       "    <tr>\n",
       "      <th>2013-05-02</th>\n",
       "      <td>116.38</td>\n",
       "      <td>125.60</td>\n",
       "      <td>92.28</td>\n",
       "      <td>105.21</td>\n",
       "      <td>-</td>\n",
       "      <td>1,292,190,000</td>\n",
       "    </tr>\n",
       "    <tr>\n",
       "      <th>2013-05-03</th>\n",
       "      <td>106.25</td>\n",
       "      <td>108.13</td>\n",
       "      <td>79.10</td>\n",
       "      <td>97.75</td>\n",
       "      <td>-</td>\n",
       "      <td>1,180,070,000</td>\n",
       "    </tr>\n",
       "    <tr>\n",
       "      <th>2013-05-04</th>\n",
       "      <td>98.10</td>\n",
       "      <td>115.00</td>\n",
       "      <td>92.50</td>\n",
       "      <td>112.50</td>\n",
       "      <td>-</td>\n",
       "      <td>1,089,890,000</td>\n",
       "    </tr>\n",
       "    <tr>\n",
       "      <th>...</th>\n",
       "      <td>...</td>\n",
       "      <td>...</td>\n",
       "      <td>...</td>\n",
       "      <td>...</td>\n",
       "      <td>...</td>\n",
       "      <td>...</td>\n",
       "    </tr>\n",
       "    <tr>\n",
       "      <th>2018-02-14</th>\n",
       "      <td>8599.92</td>\n",
       "      <td>9518.54</td>\n",
       "      <td>8599.92</td>\n",
       "      <td>9494.63</td>\n",
       "      <td>7,909,820,000</td>\n",
       "      <td>145,023,000,000</td>\n",
       "    </tr>\n",
       "    <tr>\n",
       "      <th>2018-02-15</th>\n",
       "      <td>9488.32</td>\n",
       "      <td>10234.80</td>\n",
       "      <td>9395.58</td>\n",
       "      <td>10166.40</td>\n",
       "      <td>9,062,540,000</td>\n",
       "      <td>160,025,000,000</td>\n",
       "    </tr>\n",
       "    <tr>\n",
       "      <th>2018-02-16</th>\n",
       "      <td>10135.70</td>\n",
       "      <td>10324.10</td>\n",
       "      <td>9824.82</td>\n",
       "      <td>10233.90</td>\n",
       "      <td>7,296,160,000</td>\n",
       "      <td>170,960,000,000</td>\n",
       "    </tr>\n",
       "    <tr>\n",
       "      <th>2018-02-17</th>\n",
       "      <td>10207.50</td>\n",
       "      <td>11139.50</td>\n",
       "      <td>10149.40</td>\n",
       "      <td>11112.70</td>\n",
       "      <td>8,660,880,000</td>\n",
       "      <td>172,191,000,000</td>\n",
       "    </tr>\n",
       "    <tr>\n",
       "      <th>2018-02-18</th>\n",
       "      <td>11123.40</td>\n",
       "      <td>11349.80</td>\n",
       "      <td>10326.00</td>\n",
       "      <td>10551.80</td>\n",
       "      <td>8,744,010,000</td>\n",
       "      <td>187,663,000,000</td>\n",
       "    </tr>\n",
       "    <tr>\n",
       "      <th>2018-02-19</th>\n",
       "      <td>10552.60</td>\n",
       "      <td>11273.80</td>\n",
       "      <td>10513.20</td>\n",
       "      <td>11225.30</td>\n",
       "      <td>7,652,090,000</td>\n",
       "      <td>178,055,000,000</td>\n",
       "    </tr>\n",
       "    <tr>\n",
       "      <th>2018-02-20</th>\n",
       "      <td>11231.80</td>\n",
       "      <td>11958.50</td>\n",
       "      <td>11231.80</td>\n",
       "      <td>11403.70</td>\n",
       "      <td>9,926,540,000</td>\n",
       "      <td>189,536,000,000</td>\n",
       "    </tr>\n",
       "  </tbody>\n",
       "</table>\n",
       "<p>1760 rows × 6 columns</p>\n",
       "</div>"
      ],
      "text/plain": [
       "                Open      High       Low     Close         Volume  \\\n",
       "Date                                                                \n",
       "2013-04-28    135.30    135.98    132.10    134.21              -   \n",
       "2013-04-29    134.44    147.49    134.00    144.54              -   \n",
       "2013-04-30    144.00    146.93    134.05    139.00              -   \n",
       "2013-05-01    139.00    139.89    107.72    116.99              -   \n",
       "2013-05-02    116.38    125.60     92.28    105.21              -   \n",
       "2013-05-03    106.25    108.13     79.10     97.75              -   \n",
       "2013-05-04     98.10    115.00     92.50    112.50              -   \n",
       "...              ...       ...       ...       ...            ...   \n",
       "2018-02-14   8599.92   9518.54   8599.92   9494.63  7,909,820,000   \n",
       "2018-02-15   9488.32  10234.80   9395.58  10166.40  9,062,540,000   \n",
       "2018-02-16  10135.70  10324.10   9824.82  10233.90  7,296,160,000   \n",
       "2018-02-17  10207.50  11139.50  10149.40  11112.70  8,660,880,000   \n",
       "2018-02-18  11123.40  11349.80  10326.00  10551.80  8,744,010,000   \n",
       "2018-02-19  10552.60  11273.80  10513.20  11225.30  7,652,090,000   \n",
       "2018-02-20  11231.80  11958.50  11231.80  11403.70  9,926,540,000   \n",
       "\n",
       "                 Market Cap  \n",
       "Date                         \n",
       "2013-04-28    1,500,520,000  \n",
       "2013-04-29    1,491,160,000  \n",
       "2013-04-30    1,597,780,000  \n",
       "2013-05-01    1,542,820,000  \n",
       "2013-05-02    1,292,190,000  \n",
       "2013-05-03    1,180,070,000  \n",
       "2013-05-04    1,089,890,000  \n",
       "...                     ...  \n",
       "2018-02-14  145,023,000,000  \n",
       "2018-02-15  160,025,000,000  \n",
       "2018-02-16  170,960,000,000  \n",
       "2018-02-17  172,191,000,000  \n",
       "2018-02-18  187,663,000,000  \n",
       "2018-02-19  178,055,000,000  \n",
       "2018-02-20  189,536,000,000  \n",
       "\n",
       "[1760 rows x 6 columns]"
      ]
     },
     "execution_count": 443,
     "metadata": {},
     "output_type": "execute_result"
    }
   ],
   "source": [
    "bitcoin"
   ]
  },
  {
   "cell_type": "code",
   "execution_count": 444,
   "metadata": {},
   "outputs": [],
   "source": [
    "# -------------------------- Deal with missing values ---------------------------"
   ]
  },
  {
   "cell_type": "code",
   "execution_count": 445,
   "metadata": {},
   "outputs": [
    {
     "data": {
      "image/png": "[encoded data removed]",
      "text/plain": [
       "<matplotlib.figure.Figure at 0x7fb5a8d467f0>"
      ]
     },
     "metadata": {},
     "output_type": "display_data"
    }
   ],
   "source": [
    "bitcoin_vol = bitcoin['Volume']\n",
    "# remove the comma (,) in volume value string\n",
    "bitcoin_vol_1 = bitcoin_vol[bitcoin_vol != \"-\"]\n",
    "bitcoin_vol_1 = bitcoin_vol_1.apply(lambda x: float(x.replace(',', '')))\n",
    "\n",
    "plt.figure(figsize = (20, 6))\n",
    "plt.plot(bitcoin_vol_1)\n",
    "plt.show()"
   ]
  },
  {
   "cell_type": "code",
   "execution_count": 446,
   "metadata": {},
   "outputs": [
    {
     "name": "stdout",
     "output_type": "stream",
     "text": [
      "25801388.321167883\n"
     ]
    },
    {
     "data": {
      "text/plain": [
       "Date\n",
       "2013-04-28    2.58014e+07\n",
       "2013-04-29    2.58014e+07\n",
       "2013-04-30    2.58014e+07\n",
       "2013-05-01    2.58014e+07\n",
       "2013-05-02    2.58014e+07\n",
       "2013-05-03    2.58014e+07\n",
       "2013-05-04    2.58014e+07\n",
       "                 ...     \n",
       "2018-02-14    7.90982e+09\n",
       "2018-02-15    9.06254e+09\n",
       "2018-02-16    7.29616e+09\n",
       "2018-02-17    8.66088e+09\n",
       "2018-02-18    8.74401e+09\n",
       "2018-02-19    7.65209e+09\n",
       "2018-02-20    9.92654e+09\n",
       "Name: Volume, Length: 1760, dtype: object"
      ]
     },
     "execution_count": 446,
     "metadata": {},
     "output_type": "execute_result"
    }
   ],
   "source": [
    "# use the mean value between 2014-01 to 2014-09 to replace the missing value\n",
    "bitcoin_vol_2014 = pd.DataFrame(bitcoin_vol_1).loc['2014-01-01': '2014-10-01']\n",
    "bitcoin_vol_2014_mean = bitcoin_vol_2014['Volume'].mean()\n",
    "print(bitcoin_vol_2014_mean)\n",
    "bitcoin_vol_2 = bitcoin_vol[bitcoin_vol == \"-\"]\n",
    "bitcoin_vol_2 = bitcoin_vol_2.apply(lambda x: float(x.replace('-', '%f' % (bitcoin_vol_2014_mean))))\n",
    "# update dataset\n",
    "bitcoin_vol.update(bitcoin_vol_1)\n",
    "bitcoin_vol.update(bitcoin_vol_2)\n",
    "bitcoin_vol"
   ]
  },
  {
   "cell_type": "code",
   "execution_count": 447,
   "metadata": {},
   "outputs": [
    {
     "data": {
      "image/png": "[encoded data removed]",
      "text/plain": [
       "<matplotlib.figure.Figure at 0x7fb5e8591240>"
      ]
     },
     "metadata": {},
     "output_type": "display_data"
    }
   ],
   "source": [
    "# remove the comma (,) in market cap value string\n",
    "bitcoin_mc = bitcoin['Market Cap']\n",
    "bitcoin_mc = bitcoin_mc.apply(lambda x: float(x.replace(',', '')))\n",
    "\n",
    "plt.figure(figsize = (20, 6))\n",
    "plt.plot(bitcoin_mc)\n",
    "plt.show()"
   ]
  },
  {
   "cell_type": "code",
   "execution_count": 448,
   "metadata": {},
   "outputs": [],
   "source": [
    "# update datasets\n",
    "bitcoin['Volume'].update(bitcoin_vol)\n",
    "bitcoin['Market Cap'].update(bitcoin_mc)"
   ]
  },
  {
   "cell_type": "code",
   "execution_count": 449,
   "metadata": {},
   "outputs": [
    {
     "data": {
      "text/html": [
       "<div>\n",
       "<style scoped>\n",
       "    .dataframe tbody tr th:only-of-type {\n",
       "        vertical-align: middle;\n",
       "    }\n",
       "\n",
       "    .dataframe tbody tr th {\n",
       "        vertical-align: top;\n",
       "    }\n",
       "\n",
       "    .dataframe thead th {\n",
       "        text-align: right;\n",
       "    }\n",
       "</style>\n",
       "<table border=\"1\" class=\"dataframe\">\n",
       "  <thead>\n",
       "    <tr style=\"text-align: right;\">\n",
       "      <th></th>\n",
       "      <th>Open</th>\n",
       "      <th>High</th>\n",
       "      <th>Low</th>\n",
       "      <th>Close</th>\n",
       "      <th>Volume</th>\n",
       "      <th>Market Cap</th>\n",
       "    </tr>\n",
       "    <tr>\n",
       "      <th>Date</th>\n",
       "      <th></th>\n",
       "      <th></th>\n",
       "      <th></th>\n",
       "      <th></th>\n",
       "      <th></th>\n",
       "      <th></th>\n",
       "    </tr>\n",
       "  </thead>\n",
       "  <tbody>\n",
       "    <tr>\n",
       "      <th>2013-04-28</th>\n",
       "      <td>135.30</td>\n",
       "      <td>135.98</td>\n",
       "      <td>132.10</td>\n",
       "      <td>134.21</td>\n",
       "      <td>2.58014e+07</td>\n",
       "      <td>1.50052e+09</td>\n",
       "    </tr>\n",
       "    <tr>\n",
       "      <th>2013-04-29</th>\n",
       "      <td>134.44</td>\n",
       "      <td>147.49</td>\n",
       "      <td>134.00</td>\n",
       "      <td>144.54</td>\n",
       "      <td>2.58014e+07</td>\n",
       "      <td>1.49116e+09</td>\n",
       "    </tr>\n",
       "    <tr>\n",
       "      <th>2013-04-30</th>\n",
       "      <td>144.00</td>\n",
       "      <td>146.93</td>\n",
       "      <td>134.05</td>\n",
       "      <td>139.00</td>\n",
       "      <td>2.58014e+07</td>\n",
       "      <td>1.59778e+09</td>\n",
       "    </tr>\n",
       "    <tr>\n",
       "      <th>2013-05-01</th>\n",
       "      <td>139.00</td>\n",
       "      <td>139.89</td>\n",
       "      <td>107.72</td>\n",
       "      <td>116.99</td>\n",
       "      <td>2.58014e+07</td>\n",
       "      <td>1.54282e+09</td>\n",
       "    </tr>\n",
       "    <tr>\n",
       "      <th>2013-05-02</th>\n",
       "      <td>116.38</td>\n",
       "      <td>125.60</td>\n",
       "      <td>92.28</td>\n",
       "      <td>105.21</td>\n",
       "      <td>2.58014e+07</td>\n",
       "      <td>1.29219e+09</td>\n",
       "    </tr>\n",
       "    <tr>\n",
       "      <th>2013-05-03</th>\n",
       "      <td>106.25</td>\n",
       "      <td>108.13</td>\n",
       "      <td>79.10</td>\n",
       "      <td>97.75</td>\n",
       "      <td>2.58014e+07</td>\n",
       "      <td>1.18007e+09</td>\n",
       "    </tr>\n",
       "    <tr>\n",
       "      <th>2013-05-04</th>\n",
       "      <td>98.10</td>\n",
       "      <td>115.00</td>\n",
       "      <td>92.50</td>\n",
       "      <td>112.50</td>\n",
       "      <td>2.58014e+07</td>\n",
       "      <td>1.08989e+09</td>\n",
       "    </tr>\n",
       "    <tr>\n",
       "      <th>...</th>\n",
       "      <td>...</td>\n",
       "      <td>...</td>\n",
       "      <td>...</td>\n",
       "      <td>...</td>\n",
       "      <td>...</td>\n",
       "      <td>...</td>\n",
       "    </tr>\n",
       "    <tr>\n",
       "      <th>2018-02-14</th>\n",
       "      <td>8599.92</td>\n",
       "      <td>9518.54</td>\n",
       "      <td>8599.92</td>\n",
       "      <td>9494.63</td>\n",
       "      <td>7.90982e+09</td>\n",
       "      <td>1.45023e+11</td>\n",
       "    </tr>\n",
       "    <tr>\n",
       "      <th>2018-02-15</th>\n",
       "      <td>9488.32</td>\n",
       "      <td>10234.80</td>\n",
       "      <td>9395.58</td>\n",
       "      <td>10166.40</td>\n",
       "      <td>9.06254e+09</td>\n",
       "      <td>1.60025e+11</td>\n",
       "    </tr>\n",
       "    <tr>\n",
       "      <th>2018-02-16</th>\n",
       "      <td>10135.70</td>\n",
       "      <td>10324.10</td>\n",
       "      <td>9824.82</td>\n",
       "      <td>10233.90</td>\n",
       "      <td>7.29616e+09</td>\n",
       "      <td>1.7096e+11</td>\n",
       "    </tr>\n",
       "    <tr>\n",
       "      <th>2018-02-17</th>\n",
       "      <td>10207.50</td>\n",
       "      <td>11139.50</td>\n",
       "      <td>10149.40</td>\n",
       "      <td>11112.70</td>\n",
       "      <td>8.66088e+09</td>\n",
       "      <td>1.72191e+11</td>\n",
       "    </tr>\n",
       "    <tr>\n",
       "      <th>2018-02-18</th>\n",
       "      <td>11123.40</td>\n",
       "      <td>11349.80</td>\n",
       "      <td>10326.00</td>\n",
       "      <td>10551.80</td>\n",
       "      <td>8.74401e+09</td>\n",
       "      <td>1.87663e+11</td>\n",
       "    </tr>\n",
       "    <tr>\n",
       "      <th>2018-02-19</th>\n",
       "      <td>10552.60</td>\n",
       "      <td>11273.80</td>\n",
       "      <td>10513.20</td>\n",
       "      <td>11225.30</td>\n",
       "      <td>7.65209e+09</td>\n",
       "      <td>1.78055e+11</td>\n",
       "    </tr>\n",
       "    <tr>\n",
       "      <th>2018-02-20</th>\n",
       "      <td>11231.80</td>\n",
       "      <td>11958.50</td>\n",
       "      <td>11231.80</td>\n",
       "      <td>11403.70</td>\n",
       "      <td>9.92654e+09</td>\n",
       "      <td>1.89536e+11</td>\n",
       "    </tr>\n",
       "  </tbody>\n",
       "</table>\n",
       "<p>1760 rows × 6 columns</p>\n",
       "</div>"
      ],
      "text/plain": [
       "                Open      High       Low     Close       Volume   Market Cap\n",
       "Date                                                                        \n",
       "2013-04-28    135.30    135.98    132.10    134.21  2.58014e+07  1.50052e+09\n",
       "2013-04-29    134.44    147.49    134.00    144.54  2.58014e+07  1.49116e+09\n",
       "2013-04-30    144.00    146.93    134.05    139.00  2.58014e+07  1.59778e+09\n",
       "2013-05-01    139.00    139.89    107.72    116.99  2.58014e+07  1.54282e+09\n",
       "2013-05-02    116.38    125.60     92.28    105.21  2.58014e+07  1.29219e+09\n",
       "2013-05-03    106.25    108.13     79.10     97.75  2.58014e+07  1.18007e+09\n",
       "2013-05-04     98.10    115.00     92.50    112.50  2.58014e+07  1.08989e+09\n",
       "...              ...       ...       ...       ...          ...          ...\n",
       "2018-02-14   8599.92   9518.54   8599.92   9494.63  7.90982e+09  1.45023e+11\n",
       "2018-02-15   9488.32  10234.80   9395.58  10166.40  9.06254e+09  1.60025e+11\n",
       "2018-02-16  10135.70  10324.10   9824.82  10233.90  7.29616e+09   1.7096e+11\n",
       "2018-02-17  10207.50  11139.50  10149.40  11112.70  8.66088e+09  1.72191e+11\n",
       "2018-02-18  11123.40  11349.80  10326.00  10551.80  8.74401e+09  1.87663e+11\n",
       "2018-02-19  10552.60  11273.80  10513.20  11225.30  7.65209e+09  1.78055e+11\n",
       "2018-02-20  11231.80  11958.50  11231.80  11403.70  9.92654e+09  1.89536e+11\n",
       "\n",
       "[1760 rows x 6 columns]"
      ]
     },
     "execution_count": 449,
     "metadata": {},
     "output_type": "execute_result"
    }
   ],
   "source": [
    "bitcoin"
   ]
  },
  {
   "cell_type": "code",
   "execution_count": 450,
   "metadata": {},
   "outputs": [],
   "source": [
    "# ------------------------------ Build Neural Network ----------------------------"
   ]
  },
  {
   "cell_type": "code",
   "execution_count": 451,
   "metadata": {},
   "outputs": [],
   "source": [
    "# scale dataset\n",
    "scaler = preprocessing.MinMaxScaler()\n",
    "scaler.fit(bitcoin)\n",
    "bitcoin = scaler.transform(bitcoin)"
   ]
  },
  {
   "cell_type": "code",
   "execution_count": 452,
   "metadata": {},
   "outputs": [
    {
     "data": {
      "text/plain": [
       "array([[0.003442  , 0.00306878, 0.00352063, 0.00338567, 0.00096248,\n",
       "        0.00221681],\n",
       "       [0.00339769, 0.00364387, 0.00362111, 0.00391735, 0.00096248,\n",
       "        0.00218804],\n",
       "       [0.00389029, 0.00361589, 0.00362375, 0.0036322 , 0.00096248,\n",
       "        0.00251574],\n",
       "       ...,\n",
       "       [0.56962586, 0.56335526, 0.54263596, 0.53957415, 0.36668918,\n",
       "        0.57438758],\n",
       "       [0.54021425, 0.559558  , 0.55253623, 0.57423888, 0.32088341,\n",
       "        0.54485737],\n",
       "       [0.57521139, 0.5937683 , 0.59054016, 0.58342105, 0.41629602,\n",
       "        0.58014425]])"
      ]
     },
     "execution_count": 452,
     "metadata": {},
     "output_type": "execute_result"
    }
   ],
   "source": [
    "bitcoin"
   ]
  },
  {
   "cell_type": "code",
   "execution_count": 453,
   "metadata": {},
   "outputs": [],
   "source": [
    "# split data into training set and testing set\n",
    "split = int(0.9 * bitcoin.shape[0])\n",
    "train_data = bitcoin[0 : split]\n",
    "test_data = bitcoin[split :]"
   ]
  },
  {
   "cell_type": "code",
   "execution_count": 454,
   "metadata": {},
   "outputs": [
    {
     "name": "stdout",
     "output_type": "stream",
     "text": [
      "(1584, 6) (176, 6)\n"
     ]
    }
   ],
   "source": [
    "print(train_data.shape, test_data.shape)"
   ]
  },
  {
   "cell_type": "code",
   "execution_count": 455,
   "metadata": {},
   "outputs": [],
   "source": [
    "# use Open, Volume, Market Cap in training data as input training matrix (1584 x 3)\n",
    "x_train = train_data[:, [0, 4, 5]]\n",
    "# use Close in training data as output training matrix (1584 x 1)\n",
    "y_train = train_data[:, 3]\n",
    "\n",
    "# use Open, Volume, Market Cap in testing data as input testing matrix (1584 x 3)\n",
    "x_test = test_data[:, [0, 4, 5]]\n",
    "y_test = test_data[:, 3]"
   ]
  },
  {
   "cell_type": "code",
   "execution_count": 456,
   "metadata": {},
   "outputs": [
    {
     "name": "stdout",
     "output_type": "stream",
     "text": [
      "(1584, 3) (1584,) (176, 3) (176,)\n"
     ]
    }
   ],
   "source": [
    "print(x_train.shape, y_train.shape, x_test.shape, y_test.shape)"
   ]
  },
  {
   "cell_type": "code",
   "execution_count": 457,
   "metadata": {},
   "outputs": [],
   "source": [
    "# set the number of input dataset\n",
    "n_dataset = x_train.shape[1]\n",
    "\n",
    "# set the number of neurons in each layer\n",
    "n_neurons_1 = 8\n",
    "n_neurons_2 = 4\n",
    "n_neurons_3 = 2\n",
    "n_target = 1"
   ]
  },
  {
   "cell_type": "code",
   "execution_count": 458,
   "metadata": {},
   "outputs": [
    {
     "name": "stderr",
     "output_type": "stream",
     "text": [
      "/home/sunny/.conda/envs/py3env/lib/python3.6/site-packages/tensorflow/python/client/session.py:1711: UserWarning: An interactive session is already active. This can cause out-of-memory errors in some cases. You must explicitly call `InteractiveSession.close()` to release resources held by the other session(s).\n",
      "  warnings.warn('An interactive session is already active. This can '\n"
     ]
    }
   ],
   "source": [
    "# Session\n",
    "net = tf.InteractiveSession()"
   ]
  },
  {
   "cell_type": "code",
   "execution_count": 459,
   "metadata": {},
   "outputs": [],
   "source": [
    "# define the input and output placeholder for neural network\n",
    "# The None argument indicates that at this point we do not yet know the number of \n",
    "# observations that flow through the neural net graph in each batch\n",
    "X = tf.placeholder(dtype = tf.float32, name = \"X\", shape = [None, 3])\n",
    "Y = tf.placeholder(dtype = tf.float32, name = \"Y\", shape = [None])"
   ]
  },
  {
   "cell_type": "code",
   "execution_count": 460,
   "metadata": {},
   "outputs": [],
   "source": [
    "# define initializers\n",
    "sigma = 1\n",
    "weight_initializer = tf.variance_scaling_initializer(mode = \"fan_avg\", distribution = \"uniform\", scale = sigma)\n",
    "bias_initializer = tf.zeros_initializer()"
   ]
  },
  {
   "cell_type": "code",
   "execution_count": 461,
   "metadata": {},
   "outputs": [],
   "source": [
    "# model architecture parameter\n",
    "# hidden weights + bias\n",
    "\n",
    "# Layer 1: Variables for hidden weights and biases\n",
    "w_hidden_1 = tf.Variable(weight_initializer([n_dataset, n_neurons_1]))\n",
    "bias_hidden_1 = tf.Variable(bias_initializer([n_neurons_1]))\n",
    "\n",
    "# Layer 2: Varibales for hidden weights and biases\n",
    "w_hidden_2 = tf.Variable(weight_initializer([n_neurons_1, n_neurons_2]))\n",
    "bias_hidden_2 = tf.Variable(bias_initializer([n_neurons_2]))\n",
    "\n",
    "# Layer 3: Variables for hidden weights and biases\n",
    "w_hidden_3 = tf.Variable(weight_initializer([n_neurons_2, n_neurons_3]))\n",
    "bias_hidden_3 = tf.Variable(bias_initializer([n_neurons_3]))\n",
    "\n",
    "# Output Layer: Variable for hidden weights and biases\n",
    "w_out = tf.Variable(weight_initializer([n_neurons_3, n_target]))\n",
    "bias_out = tf.Variable(bias_initializer([n_target]))"
   ]
  },
  {
   "cell_type": "code",
   "execution_count": 462,
   "metadata": {},
   "outputs": [
    {
     "data": {
      "text/plain": [
       "<tf.Variable 'Variable_110:0' shape=(2, 1) dtype=float32_ref>"
      ]
     },
     "execution_count": 462,
     "metadata": {},
     "output_type": "execute_result"
    }
   ],
   "source": [
    "w_out"
   ]
  },
  {
   "cell_type": "code",
   "execution_count": 463,
   "metadata": {},
   "outputs": [],
   "source": [
    "# Activation function for hidden layers (ReLU)\n",
    "\n",
    "# activation function for hidden layer 1\n",
    "hidden_1 = tf.nn.relu(tf.add(tf.matmul(X, w_hidden_1), bias_hidden_1))\n",
    "\n",
    "# activation function for hidden layer 2\n",
    "hidden_2 = tf.nn.relu(tf.add(tf.matmul(hidden_1, w_hidden_2), bias_hidden_2))\n",
    "\n",
    "# activation function for hidden layer 3\n",
    "hidden_3 = tf.nn.relu(tf.add(tf.matmul(hidden_2, w_hidden_3), bias_hidden_3))\n",
    "\n",
    "# output layer\n",
    "out = tf.transpose(tf.add(tf.matmul(hidden_3, w_out), bias_out))"
   ]
  },
  {
   "cell_type": "code",
   "execution_count": 464,
   "metadata": {},
   "outputs": [
    {
     "data": {
      "text/plain": [
       "<tf.Tensor 'transpose_12:0' shape=(1, ?) dtype=float32>"
      ]
     },
     "execution_count": 464,
     "metadata": {},
     "output_type": "execute_result"
    }
   ],
   "source": [
    "out"
   ]
  },
  {
   "cell_type": "code",
   "execution_count": 465,
   "metadata": {},
   "outputs": [],
   "source": [
    "# define cost function\n",
    "mse = tf.reduce_mean(tf.squared_difference(out, Y))"
   ]
  },
  {
   "cell_type": "code",
   "execution_count": 466,
   "metadata": {},
   "outputs": [],
   "source": [
    "# define optimizer\n",
    "opt = tf.train.AdamOptimizer().minimize(mse)"
   ]
  },
  {
   "cell_type": "code",
   "execution_count": 467,
   "metadata": {},
   "outputs": [],
   "source": [
    "# initialize all variables \n",
    "net.run(tf.global_variables_initializer())"
   ]
  },
  {
   "cell_type": "code",
   "execution_count": 468,
   "metadata": {},
   "outputs": [
    {
     "data": {
      "image/png": "[encoded data removed]",
      "text/plain": [
       "<matplotlib.figure.Figure at 0x7fb59bfe1e10>"
      ]
     },
     "metadata": {},
     "output_type": "display_data"
    }
   ],
   "source": [
    "# set up plot\n",
    "plt.ion()\n",
    "fig = plt.figure()\n",
    "ax1 = fig.add_subplot(111)\n",
    "line1, = ax1.plot(y_test)\n",
    "line2, = ax1.plot(y_test * 0.5)\n",
    "plt.show()"
   ]
  },
  {
   "cell_type": "code",
   "execution_count": 469,
   "metadata": {},
   "outputs": [
    {
     "data": {
      "text/plain": [
       "1584"
      ]
     },
     "execution_count": 469,
     "metadata": {},
     "output_type": "execute_result"
    }
   ],
   "source": [
    "len(y_train)"
   ]
  },
  {
   "cell_type": "code",
   "execution_count": 470,
   "metadata": {},
   "outputs": [],
   "source": [
    "# fit neural net\n",
    "batch_size = 15\n",
    "epochs = 10\n",
    "\n",
    "mse_train = []\n",
    "mse_test = []\n",
    "\n",
    "for e in range(epochs):\n",
    "    \n",
    "    # shuffle data first\n",
    "    shuffle_indices = np.random.permutation(np.arange(0,len(y_train)))\n",
    "    x_train = x_train[shuffle_indices]\n",
    "    y_train = y_train[shuffle_indices]\n",
    "    \n",
    "    # mini-batch training\n",
    "    for i in range(len(y_train) // batch_size):\n",
    "        start = i * batch_size\n",
    "        batch_x = x_train[start: start + batch_size]\n",
    "        batch_y = y_train[start: start + batch_size]\n",
    "        \n",
    "        # Run optimizer with batch\n",
    "        net.run(opt, feed_dict = {X: batch_x, Y: batch_y})\n",
    "        \n",
    "        # show progress\n",
    "        if np.mod(i, 50) == 0:\n",
    "            \n",
    "            # MSE train and test\n",
    "            mse_train.append(net.run(mse, feed_dict = {X: batch_x, Y: batch_y}))\n",
    "            mse_test.append(net.run(mse, feed_dict = {X: x_test, Y: y_test}))\n",
    "            \n",
    "            # prediction\n",
    "        pred = net.run(out, feed_dict = {X: x_test})\n",
    "            "
   ]
  },
  {
   "cell_type": "code",
   "execution_count": 471,
   "metadata": {},
   "outputs": [
    {
     "data": {
      "text/plain": [
       "array([[0.22605883, 0.23452471, 0.23379928, 0.2383084 , 0.24571069,\n",
       "        0.23534046, 0.23313096, 0.21826644, 0.22509947, 0.23547854,\n",
       "        0.2344297 , 0.21657485, 0.216974  , 0.21137358, 0.2141807 ,\n",
       "        0.21281292, 0.20045154, 0.1635823 , 0.18712057, 0.1847213 ,\n",
       "        0.18494333, 0.2090195 , 0.2007885 , 0.2000481 , 0.18582347,\n",
       "        0.18927899, 0.20099793, 0.18883772, 0.20413208, 0.2000686 ,\n",
       "        0.21562432, 0.21385704, 0.21488135, 0.2246134 , 0.22541735,\n",
       "        0.22715719, 0.22484708, 0.21918419, 0.2258688 , 0.23088643,\n",
       "        0.22799635, 0.23703222, 0.24422707, 0.24726593, 0.24332155,\n",
       "        0.26580438, 0.27786133, 0.28431922, 0.2785208 , 0.28109488,\n",
       "        0.27433524, 0.2751253 , 0.27851507, 0.2900712 , 0.2920627 ,\n",
       "        0.28997555, 0.2864299 , 0.2724724 , 0.2812905 , 0.28807357,\n",
       "        0.2862862 , 0.27918825, 0.29626223, 0.2952103 , 0.30578628,\n",
       "        0.31054246, 0.3296063 , 0.3348219 , 0.34439462, 0.34252858,\n",
       "        0.3297933 , 0.3259568 , 0.34398884, 0.32079214, 0.30153736,\n",
       "        0.24487185, 0.25940222, 0.30983427, 0.30987456, 0.32787538,\n",
       "        0.35448632, 0.35273376, 0.35673085, 0.36648658, 0.3709953 ,\n",
       "        0.36768058, 0.3722062 , 0.35924554, 0.3723214 , 0.38382807,\n",
       "        0.4048205 , 0.41647384, 0.37063086, 0.39881223, 0.4271416 ,\n",
       "        0.47654083, 0.46500006, 0.47961476, 0.48648822, 0.43417877,\n",
       "        0.47240546, 0.58185047, 0.60768914, 0.55784565, 0.58219755,\n",
       "        0.6165359 , 0.6576897 , 0.6038072 , 0.6069536 , 0.67102647,\n",
       "        0.73466545, 0.7033129 , 0.6817534 , 0.5700172 , 0.5852364 ,\n",
       "        0.49385148, 0.51269245, 0.5558577 , 0.5407665 , 0.51243466,\n",
       "        0.6094342 , 0.5989333 , 0.5440228 , 0.5281482 , 0.480501  ,\n",
       "        0.54985094, 0.45950338, 0.5143806 , 0.4734802 , 0.45979902,\n",
       "        0.60017335, 0.6292509 , 0.5590741 , 0.5229111 , 0.48135152,\n",
       "        0.51804405, 0.50449497, 0.51735365, 0.5525319 , 0.51004183,\n",
       "        0.447203  , 0.34945285, 0.38103634, 0.43656892, 0.434418  ,\n",
       "        0.5048442 , 0.44718206, 0.42857394, 0.42392126, 0.45660433,\n",
       "        0.44048747, 0.4604967 , 0.46454075, 0.48939478, 0.45464462,\n",
       "        0.41218263, 0.39683262, 0.3223747 , 0.3693649 , 0.38465735,\n",
       "        0.32392192, 0.22343265, 0.30419877, 0.29750723, 0.35100618,\n",
       "        0.3586214 , 0.372258  , 0.35144472, 0.3895912 , 0.3524458 ,\n",
       "        0.37638333, 0.4218865 , 0.41016755, 0.44675294, 0.43520948,\n",
       "        0.43853515]], dtype=float32)"
      ]
     },
     "execution_count": 471,
     "metadata": {},
     "output_type": "execute_result"
    }
   ],
   "source": [
    "pred"
   ]
  },
  {
   "cell_type": "code",
   "execution_count": 472,
   "metadata": {},
   "outputs": [
    {
     "data": {
      "image/png": "[encoded data removed]",
      "text/plain": [
       "<matplotlib.figure.Figure at 0x7fb59be00908>"
      ]
     },
     "metadata": {},
     "output_type": "display_data"
    }
   ],
   "source": [
    "# plot the learning curve \n",
    "fig = plt.figure()\n",
    "ax1 = fig.add_subplot(111)\n",
    "line1, = ax1.plot(mse_test)"
   ]
  },
  {
   "cell_type": "code",
   "execution_count": 473,
   "metadata": {},
   "outputs": [
    {
     "name": "stdout",
     "output_type": "stream",
     "text": [
      "(176,)\n",
      "(176,)\n"
     ]
    },
    {
     "data": {
      "text/plain": [
       "[<matplotlib.lines.Line2D at 0x7fb59bbba358>]"
      ]
     },
     "execution_count": 473,
     "metadata": {},
     "output_type": "execute_result"
    },
    {
     "data": {
      "image/png": "[encoded data removed]",
      "text/plain": [
       "<matplotlib.figure.Figure at 0x7fb59bbf1da0>"
      ]
     },
     "metadata": {},
     "output_type": "display_data"
    }
   ],
   "source": [
    "fig = plt.figure()\n",
    "ax1 = fig.add_subplot(111)\n",
    "y1 = pred[0]\n",
    "y2 = y_test\n",
    "\n",
    "print(y1.shape)\n",
    "print(y2.shape)\n",
    "ax1.plot(y1, c = \"r\")\n",
    "ax1.plot(y2, c = \"b\")"
   ]
  },
  {
   "cell_type": "markdown",
   "metadata": {},
   "source": [
    "## Recurrent Neural Network Model"
   ]
  },
  {
   "cell_type": "code",
   "execution_count": 475,
   "metadata": {},
   "outputs": [
    {
     "name": "stderr",
     "output_type": "stream",
     "text": [
      "Using TensorFlow backend.\n"
     ]
    }
   ],
   "source": [
    "# import relevant Keras modules\n",
    "from keras.models import Sequential\n",
    "from keras.layers import Activation, Dense\n",
    "from keras.layers import LSTM\n",
    "from keras.layers import Dropout"
   ]
  },
  {
   "cell_type": "code",
   "execution_count": 476,
   "metadata": {},
   "outputs": [
    {
     "data": {
      "text/plain": [
       "array([[0.003442  , 0.00306878, 0.00352063, 0.00338567, 0.00096248,\n",
       "        0.00221681],\n",
       "       [0.00339769, 0.00364387, 0.00362111, 0.00391735, 0.00096248,\n",
       "        0.00218804],\n",
       "       [0.00389029, 0.00361589, 0.00362375, 0.0036322 , 0.00096248,\n",
       "        0.00251574],\n",
       "       ...,\n",
       "       [0.56962586, 0.56335526, 0.54263596, 0.53957415, 0.36668918,\n",
       "        0.57438758],\n",
       "       [0.54021425, 0.559558  , 0.55253623, 0.57423888, 0.32088341,\n",
       "        0.54485737],\n",
       "       [0.57521139, 0.5937683 , 0.59054016, 0.58342105, 0.41629602,\n",
       "        0.58014425]])"
      ]
     },
     "execution_count": 476,
     "metadata": {},
     "output_type": "execute_result"
    }
   ],
   "source": [
    "bitcoin"
   ]
  },
  {
   "cell_type": "code",
   "execution_count": null,
   "metadata": {},
   "outputs": [],
   "source": []
  }
 ],
 "metadata": {
  "kernelspec": {
   "display_name": "Python 3",
   "language": "python",
   "name": "python3"
  },
  "language_info": {
   "codemirror_mode": {
    "name": "ipython",
    "version": 3
   },
   "file_extension": ".py",
   "mimetype": "text/x-python",
   "name": "python",
   "nbconvert_exporter": "python",
   "pygments_lexer": "ipython3",
   "version": "3.6.4"
  }
 },
 "nbformat": 4,
 "nbformat_minor": 2
}
